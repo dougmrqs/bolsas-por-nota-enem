{
 "cells": [
  {
   "cell_type": "markdown",
   "metadata": {},
   "source": [
    "### Introdução\n",
    "\n",
    "Estávamos discutindo em um grupo de amigos se a campanha de bolsas de uma universidade seria ou não demasiadamente atingível. A alegação pontual foi que, uma média de 700 é uma média fácil.\n",
    "\n",
    "Elaborei então as seguintes hipóteses:    \n",
    "1) Qual a porcentagem de alunos que se encaixam em cada categoria de bolsa desse programa?    \n",
    "2) Selecionando apenas os alunos da região da universidade, qual a porcentagem para cada faixa de bolsa?"
   ]
  },
  {
   "cell_type": "markdown",
   "metadata": {},
   "source": [
    "<img src=\"campanha_universidade.jpg\" alt=\"Drawing\" style=\"width: 200px;\"/>"
   ]
  },
  {
   "cell_type": "code",
   "execution_count": 1,
   "metadata": {},
   "outputs": [],
   "source": [
    "categorias_bolsa = {\n",
    "    '20%' : '<= 450',\n",
    "    '30%' : '451 < 550',\n",
    "    '35%' : '551 < 600',\n",
    "    '40%' : '601 < 650',\n",
    "    '50%' : '651 < 700',\n",
    "    '100%' : '>= 701'\n",
    "}"
   ]
  },
  {
   "cell_type": "code",
   "execution_count": 2,
   "metadata": {},
   "outputs": [
    {
     "data": {
      "text/plain": [
       "(5513747, 137)"
      ]
     },
     "execution_count": 2,
     "metadata": {},
     "output_type": "execute_result"
    }
   ],
   "source": [
    "import pandas as pd\n",
    "\n",
    "df = pd.read_csv('./Dados/MICRODADOS_ENEM_2018.csv', sep=';', encoding='latin-1')\n",
    "df.shape"
   ]
  },
  {
   "cell_type": "code",
   "execution_count": 3,
   "metadata": {},
   "outputs": [
    {
     "data": {
      "text/plain": [
       "(5513747, 137)"
      ]
     },
     "execution_count": 3,
     "metadata": {},
     "output_type": "execute_result"
    }
   ],
   "source": [
    "df.shape"
   ]
  },
  {
   "cell_type": "code",
   "execution_count": 4,
   "metadata": {},
   "outputs": [
    {
     "name": "stdout",
     "output_type": "stream",
     "text": [
      "NU_INSCRICAO\n",
      "NU_ANO\n",
      "CO_MUNICIPIO_RESIDENCIA\n",
      "NO_MUNICIPIO_RESIDENCIA\n",
      "CO_UF_RESIDENCIA\n",
      "SG_UF_RESIDENCIA\n",
      "NU_IDADE\n",
      "TP_SEXO\n",
      "TP_ESTADO_CIVIL\n",
      "TP_COR_RACA\n",
      "TP_NACIONALIDADE\n",
      "CO_MUNICIPIO_NASCIMENTO\n",
      "NO_MUNICIPIO_NASCIMENTO\n",
      "CO_UF_NASCIMENTO\n",
      "SG_UF_NASCIMENTO\n",
      "TP_ST_CONCLUSAO\n",
      "TP_ANO_CONCLUIU\n",
      "TP_ESCOLA\n",
      "TP_ENSINO\n",
      "IN_TREINEIRO\n",
      "CO_ESCOLA\n",
      "CO_MUNICIPIO_ESC\n",
      "NO_MUNICIPIO_ESC\n",
      "CO_UF_ESC\n",
      "SG_UF_ESC\n",
      "TP_DEPENDENCIA_ADM_ESC\n",
      "TP_LOCALIZACAO_ESC\n",
      "TP_SIT_FUNC_ESC\n",
      "IN_BAIXA_VISAO\n",
      "IN_CEGUEIRA\n",
      "IN_SURDEZ\n",
      "IN_DEFICIENCIA_AUDITIVA\n",
      "IN_SURDO_CEGUEIRA\n",
      "IN_DEFICIENCIA_FISICA\n",
      "IN_DEFICIENCIA_MENTAL\n",
      "IN_DEFICIT_ATENCAO\n",
      "IN_DISLEXIA\n",
      "IN_DISCALCULIA\n",
      "IN_AUTISMO\n",
      "IN_VISAO_MONOCULAR\n",
      "IN_OUTRA_DEF\n",
      "IN_GESTANTE\n",
      "IN_LACTANTE\n",
      "IN_IDOSO\n",
      "IN_ESTUDA_CLASSE_HOSPITALAR\n",
      "IN_SEM_RECURSO\n",
      "IN_BRAILLE\n",
      "IN_AMPLIADA_24\n",
      "IN_AMPLIADA_18\n",
      "IN_LEDOR\n",
      "IN_ACESSO\n",
      "IN_TRANSCRICAO\n",
      "IN_LIBRAS\n",
      "IN_LEITURA_LABIAL\n",
      "IN_MESA_CADEIRA_RODAS\n",
      "IN_MESA_CADEIRA_SEPARADA\n",
      "IN_APOIO_PERNA\n",
      "IN_GUIA_INTERPRETE\n",
      "IN_COMPUTADOR\n",
      "IN_CADEIRA_ESPECIAL\n",
      "IN_CADEIRA_CANHOTO\n",
      "IN_CADEIRA_ACOLCHOADA\n",
      "IN_PROVA_DEITADO\n",
      "IN_MOBILIARIO_OBESO\n",
      "IN_LAMINA_OVERLAY\n",
      "IN_PROTETOR_AURICULAR\n",
      "IN_MEDIDOR_GLICOSE\n",
      "IN_MAQUINA_BRAILE\n",
      "IN_SOROBAN\n",
      "IN_MARCA_PASSO\n",
      "IN_SONDA\n",
      "IN_MEDICAMENTOS\n",
      "IN_SALA_INDIVIDUAL\n",
      "IN_SALA_ESPECIAL\n",
      "IN_SALA_ACOMPANHANTE\n",
      "IN_MOBILIARIO_ESPECIFICO\n",
      "IN_MATERIAL_ESPECIFICO\n",
      "IN_NOME_SOCIAL\n",
      "CO_MUNICIPIO_PROVA\n",
      "NO_MUNICIPIO_PROVA\n",
      "CO_UF_PROVA\n",
      "SG_UF_PROVA\n",
      "TP_PRESENCA_CN\n",
      "TP_PRESENCA_CH\n",
      "TP_PRESENCA_LC\n",
      "TP_PRESENCA_MT\n",
      "CO_PROVA_CN\n",
      "CO_PROVA_CH\n",
      "CO_PROVA_LC\n",
      "CO_PROVA_MT\n",
      "NU_NOTA_CN\n",
      "NU_NOTA_CH\n",
      "NU_NOTA_LC\n",
      "NU_NOTA_MT\n",
      "TX_RESPOSTAS_CN\n",
      "TX_RESPOSTAS_CH\n",
      "TX_RESPOSTAS_LC\n",
      "TX_RESPOSTAS_MT\n",
      "TP_LINGUA\n",
      "TX_GABARITO_CN\n",
      "TX_GABARITO_CH\n",
      "TX_GABARITO_LC\n",
      "TX_GABARITO_MT\n",
      "TP_STATUS_REDACAO\n",
      "NU_NOTA_COMP1\n",
      "NU_NOTA_COMP2\n",
      "NU_NOTA_COMP3\n",
      "NU_NOTA_COMP4\n",
      "NU_NOTA_COMP5\n",
      "NU_NOTA_REDACAO\n",
      "Q001\n",
      "Q002\n",
      "Q003\n",
      "Q004\n",
      "Q005\n",
      "Q006\n",
      "Q007\n",
      "Q008\n",
      "Q009\n",
      "Q010\n",
      "Q011\n",
      "Q012\n",
      "Q013\n",
      "Q014\n",
      "Q015\n",
      "Q016\n",
      "Q017\n",
      "Q018\n",
      "Q019\n",
      "Q020\n",
      "Q021\n",
      "Q022\n",
      "Q023\n",
      "Q024\n",
      "Q025\n",
      "Q026\n",
      "Q027\n"
     ]
    }
   ],
   "source": [
    "for col in df.columns:\n",
    "    print(col)"
   ]
  },
  {
   "cell_type": "markdown",
   "metadata": {},
   "source": [
    "### Primeira hipótese\n",
    "Na primeira hipótese, se faz necessária a análise da média simples do aluno então todas as outras características não são interessantes.\n",
    "São selecionadas apenas as características: 'NU_NOTA_CN', 'NU_NOTA_CH', 'NU_NOTA_LC', 'NU_NOTA_MT', 'NU_NOTA_REDACAO'"
   ]
  },
  {
   "cell_type": "code",
   "execution_count": 5,
   "metadata": {},
   "outputs": [],
   "source": [
    "notas = ['NU_NOTA_CN', 'NU_NOTA_CH', 'NU_NOTA_LC', 'NU_NOTA_MT', 'NU_NOTA_REDACAO']\n",
    "\n",
    "df_notas = df[notas]"
   ]
  },
  {
   "cell_type": "code",
   "execution_count": 6,
   "metadata": {},
   "outputs": [
    {
     "data": {
      "text/plain": [
       "NU_NOTA_CN         29.175223\n",
       "NU_NOTA_CH         24.765064\n",
       "NU_NOTA_LC         24.765064\n",
       "NU_NOTA_MT         29.175223\n",
       "NU_NOTA_REDACAO    24.765064\n",
       "dtype: float64"
      ]
     },
     "execution_count": 6,
     "metadata": {},
     "output_type": "execute_result"
    }
   ],
   "source": [
    "df_notas.isna().sum()/df.shape[0]*100"
   ]
  },
  {
   "cell_type": "code",
   "execution_count": 7,
   "metadata": {},
   "outputs": [
    {
     "data": {
      "text/plain": [
       "(3893743, 5)"
      ]
     },
     "execution_count": 7,
     "metadata": {},
     "output_type": "execute_result"
    }
   ],
   "source": [
    "df_notas = df_notas.dropna()\n",
    "df_notas.shape"
   ]
  },
  {
   "cell_type": "markdown",
   "metadata": {},
   "source": [
    "Acima notamos que os estão de 24 a 29% faltantes nas notas dos alunos. Tal fato pode ser por falta na avaliação ou por algum problema de inclusão no sistema. Para nosso objetivo, não faz sentido inserir dados falsos. No universo de ~5.5 milhões de inscrições, trabalhar apenas com dados completos **pode** ser o suficiente. Após a remoção dos candidatos com notas faltantes, ainda sobram ~3.9 milhões de candidatos)"
   ]
  },
  {
   "cell_type": "code",
   "execution_count": 8,
   "metadata": {},
   "outputs": [],
   "source": [
    "df_notas['MEDIA'] = df_notas.mean(axis=1).round(0).astype(int)"
   ]
  },
  {
   "cell_type": "code",
   "execution_count": 9,
   "metadata": {},
   "outputs": [
    {
     "data": {
      "text/plain": [
       "{'20%': '<= 450',\n",
       " '30%': '451 < 550',\n",
       " '35%': '551 < 600',\n",
       " '40%': '601 < 650',\n",
       " '50%': '651 < 700',\n",
       " '100%': '>= 701'}"
      ]
     },
     "execution_count": 9,
     "metadata": {},
     "output_type": "execute_result"
    }
   ],
   "source": [
    "categorias_bolsa"
   ]
  },
  {
   "cell_type": "code",
   "execution_count": 10,
   "metadata": {},
   "outputs": [
    {
     "data": {
      "text/plain": [
       "{'20%': 680676,\n",
       " '30%': 1791199,\n",
       " '35%': 673037,\n",
       " '40%': 399263,\n",
       " '50%': 219610,\n",
       " '100%': 129958}"
      ]
     },
     "execution_count": 10,
     "metadata": {},
     "output_type": "execute_result"
    }
   ],
   "source": [
    "qtde_candidatos_por_categoria = {\n",
    "    '20%' : df_notas.query('MEDIA <= 450').shape[0],\n",
    "    '30%' : df_notas.query('MEDIA >= 451 and MEDIA <= 550').shape[0],\n",
    "    '35%' : df_notas.query('MEDIA >= 551 and MEDIA <= 600').shape[0],\n",
    "    '40%' : df_notas.query('MEDIA >= 601 and MEDIA <= 650').shape[0],\n",
    "    '50%' : df_notas.query('MEDIA >= 651 and MEDIA <= 700').shape[0],\n",
    "    '100%': df_notas.query('MEDIA >= 701').shape[0]\n",
    "}\n",
    "\n",
    "qtde_candidatos_por_categoria"
   ]
  },
  {
   "cell_type": "code",
   "execution_count": 11,
   "metadata": {},
   "outputs": [
    {
     "data": {
      "text/plain": [
       "True"
      ]
     },
     "execution_count": 11,
     "metadata": {},
     "output_type": "execute_result"
    }
   ],
   "source": [
    "# Função de teste, verifica se a query foi efetuada corretamente pelo usuário\n",
    "\n",
    "def checa_quantidades(df_notas, qtde_candidatos_por_categoria):\n",
    "    return df_notas.shape[0] == sum(list(qtde_candidatos_por_categoria.values()))\n",
    "\n",
    "checa_quantidades(df_notas, qtde_candidatos_por_categoria)"
   ]
  },
  {
   "cell_type": "code",
   "execution_count": 12,
   "metadata": {},
   "outputs": [
    {
     "data": {
      "text/plain": [
       "{'20%': 17.48,\n",
       " '30%': 46.0,\n",
       " '35%': 17.29,\n",
       " '40%': 10.25,\n",
       " '50%': 5.64,\n",
       " '100%': 3.34}"
      ]
     },
     "execution_count": 12,
     "metadata": {},
     "output_type": "execute_result"
    }
   ],
   "source": [
    "porcentagem_candidatos_por_categoria = {\n",
    "    '20%' : round(qtde_candidatos_por_categoria['20%']/df_notas.shape[0]*100, 2),\n",
    "    '30%' : round(qtde_candidatos_por_categoria['30%']/df_notas.shape[0]*100, 2),\n",
    "    '35%' : round(qtde_candidatos_por_categoria['35%']/df_notas.shape[0]*100, 2),\n",
    "    '40%' : round(qtde_candidatos_por_categoria['40%']/df_notas.shape[0]*100, 2),\n",
    "    '50%' : round(qtde_candidatos_por_categoria['50%']/df_notas.shape[0]*100, 2),\n",
    "    '100%': round(qtde_candidatos_por_categoria['100%']/df_notas.shape[0]*100, 2)\n",
    "}\n",
    "\n",
    "porcentagem_candidatos_por_categoria"
   ]
  },
  {
   "cell_type": "markdown",
   "metadata": {},
   "source": [
    "### Segunda hipótese\n",
    "\n",
    "Serão selecionados apenas candidatos da cidade da universidade em questão. Após uma breve pesquisa no Google, a universidade está localizada em Campinas. Observe que esta hipótese é apenas para fins demonstrativos e não consideraria que alunos de cidades vizinhas viajariam para estudar nesta instituição."
   ]
  },
  {
   "cell_type": "code",
   "execution_count": 13,
   "metadata": {},
   "outputs": [
    {
     "data": {
      "text/plain": [
       "(23479, 137)"
      ]
     },
     "execution_count": 13,
     "metadata": {},
     "output_type": "execute_result"
    }
   ],
   "source": [
    "df_cps = df.query('NO_MUNICIPIO_RESIDENCIA == \"Campinas\"')\n",
    "df_cps.shape"
   ]
  },
  {
   "cell_type": "code",
   "execution_count": 14,
   "metadata": {},
   "outputs": [
    {
     "data": {
      "text/plain": [
       "(16674, 5)"
      ]
     },
     "execution_count": 14,
     "metadata": {},
     "output_type": "execute_result"
    }
   ],
   "source": [
    "df_cps = df_cps[notas]\n",
    "df_cps = df_cps.dropna()\n",
    "df_cps.shape"
   ]
  },
  {
   "cell_type": "code",
   "execution_count": 15,
   "metadata": {},
   "outputs": [],
   "source": [
    "df_cps['MEDIA'] = df_cps.mean(axis=1).round(0).astype(int)"
   ]
  },
  {
   "cell_type": "code",
   "execution_count": 16,
   "metadata": {},
   "outputs": [
    {
     "data": {
      "text/plain": [
       "{'20%': 1630, '30%': 6044, '35%': 3296, '40%': 2573, '50%': 1837, '100%': 1294}"
      ]
     },
     "execution_count": 16,
     "metadata": {},
     "output_type": "execute_result"
    }
   ],
   "source": [
    "qtde_candidatos_por_categoria = {\n",
    "    '20%' : df_cps.query('MEDIA <= 450').shape[0],\n",
    "    '30%' : df_cps.query('MEDIA >= 451 and MEDIA <= 550').shape[0],\n",
    "    '35%' : df_cps.query('MEDIA >= 551 and MEDIA <= 600').shape[0],\n",
    "    '40%' : df_cps.query('MEDIA >= 601 and MEDIA <= 650').shape[0],\n",
    "    '50%' : df_cps.query('MEDIA >= 651 and MEDIA <= 700').shape[0],\n",
    "    '100%': df_cps.query('MEDIA >= 701').shape[0]\n",
    "}\n",
    "\n",
    "qtde_candidatos_por_categoria"
   ]
  },
  {
   "cell_type": "code",
   "execution_count": 17,
   "metadata": {},
   "outputs": [
    {
     "data": {
      "text/plain": [
       "True"
      ]
     },
     "execution_count": 17,
     "metadata": {},
     "output_type": "execute_result"
    }
   ],
   "source": [
    "checa_quantidades(df_cps, qtde_candidatos_por_categoria)"
   ]
  },
  {
   "cell_type": "code",
   "execution_count": 18,
   "metadata": {},
   "outputs": [
    {
     "data": {
      "text/plain": [
       "{'20%': 9.78,\n",
       " '30%': 36.25,\n",
       " '35%': 19.77,\n",
       " '40%': 15.43,\n",
       " '50%': 11.02,\n",
       " '100%': 7.76}"
      ]
     },
     "execution_count": 18,
     "metadata": {},
     "output_type": "execute_result"
    }
   ],
   "source": [
    "porcentagem_candidatos_por_categoria = {\n",
    "    '20%' : round(qtde_candidatos_por_categoria['20%']/df_cps.shape[0]*100, 2),\n",
    "    '30%' : round(qtde_candidatos_por_categoria['30%']/df_cps.shape[0]*100, 2),\n",
    "    '35%' : round(qtde_candidatos_por_categoria['35%']/df_cps.shape[0]*100, 2),\n",
    "    '40%' : round(qtde_candidatos_por_categoria['40%']/df_cps.shape[0]*100, 2),\n",
    "    '50%' : round(qtde_candidatos_por_categoria['50%']/df_cps.shape[0]*100, 2),\n",
    "    '100%': round(qtde_candidatos_por_categoria['100%']/df_cps.shape[0]*100, 2)\n",
    "}\n",
    "\n",
    "porcentagem_candidatos_por_categoria"
   ]
  },
  {
   "cell_type": "markdown",
   "metadata": {},
   "source": [
    "### Conclusão\n",
    "\n",
    "No contexto amplo de candidatos, 3.34% dos indivíduos amostrados se encaixam na faixa de bolsa correspondente a 100%. O maior grupo de candidatos se situa na faixa que contempla 30% de bolsa, com 46% dos indivíduos.\n",
    "\n",
    "No grupo selecionado pela cidade de Campinas, é observado que 7.76% dos candidatos seriam aptos para a bolsa de 100% e o maior grupo de candidatos se situa também na faixa correspondente à 30% de bolsa, com 36.25% dos indivíduos."
   ]
  }
 ],
 "metadata": {
  "kernelspec": {
   "display_name": "Python 3",
   "language": "python",
   "name": "python3"
  },
  "language_info": {
   "codemirror_mode": {
    "name": "ipython",
    "version": 3
   },
   "file_extension": ".py",
   "mimetype": "text/x-python",
   "name": "python",
   "nbconvert_exporter": "python",
   "pygments_lexer": "ipython3",
   "version": "3.7.6"
  }
 },
 "nbformat": 4,
 "nbformat_minor": 2
}
